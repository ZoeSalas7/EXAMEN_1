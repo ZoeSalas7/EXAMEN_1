{
  "nbformat": 4,
  "nbformat_minor": 0,
  "metadata": {
    "colab": {
      "name": "EXAMEN.ipynb",
      "provenance": []
    },
    "kernelspec": {
      "name": "python3",
      "display_name": "Python 3"
    }
  },
  "cells": [
    {
      "cell_type": "code",
      "metadata": {
        "id": "cAx46iP0gTJb",
        "outputId": "2d9c08bc-d1f4-4feb-e627-81cdb0178b44",
        "colab": {
          "base_uri": "https://localhost:8080/"
        }
      },
      "source": [
        "#EXAMEN PRIMER PARCIAL\n",
        "#ECUACION GENERAL DE SEGUNDO GRADO\n",
        "#SI EL DISCRIMANTE (b**2-4*a*c) ES NEGATIVO DEBE IMPRIMIR \"ERROR, EL DISCRIMINANTE TIENE QUE SER POSTIVO\" \n",
        "#Y DEBE VOLVER A LEER LOS VALORES DE LOS COEFICIENTES a,b,c ESTO DEBE CICLAR HASTA QUE EL DISCRIMINANTE DE POSITIVO\n",
        "\n",
        "print('Ingrese los coeficientes de la ecuacion cuadratica ax² + bx + c = 0')\n",
        "dis = -1\n",
        "while dis < 0:\n",
        "    a = float(input(\"Digite {a}\"))\n",
        "    b = float(input(\"Digite {b}\"))\n",
        "    c = float(input(\"Digite {c}\"))\n",
        "    dis = (b*b)-(4*a*c)\n",
        "    if dis < 0:\n",
        "        print('Error, el discriminante tiene que ser positivo.')\n",
        "\n",
        "print('La ecuacion a resolver es {a}x² + {b}x + {c} = 0'.format(a=a, b=b, c=c))\n",
        "\n",
        "x1 = (-b +(b**2 - 4*a*c)**.5)/(2*a)\n",
        "x2 = (-b -(b**2 - 4*a*c)**.5)/(2*a)\n",
        "print('x1 = {x1}'.format(x1=x1))\n",
        "print('x2 = {x2}'.format(x2=x2))\n",
        "\n",
        "#REALIZAR UNA FUNCION QUE ACEPTE COMO ARGUMENTO EL VALOR DE x, QUE CALCULE EL VALOR DE f(x) Y LO REGRESE COMO FUNCION PRINCIPAL\n",
        "\n",
        "def funcion(x):\n",
        "    return (x**2) + (3*x) + 3\n",
        "\n",
        "x = float(input('Ingrese el punto en el que desea evaluar la funcion f(x) = x² + 3x + 3: '))\n",
        "y = funcion(x)\n",
        "\n",
        "print('f(x) = {y}'.format(y=y))\n",
        "\n",
        "contador = -4\n",
        "miLista=[]\n",
        "while contador < 11:\n",
        "    valor = funcion(contador)\n",
        "    if valor > 30: \n",
        "        break\n",
        "    miLista.append(valor)\n",
        "    contador = contador + 1\n",
        "    \n",
        "print(miLista)\n"
      ],
      "execution_count": 47,
      "outputs": [
        {
          "output_type": "stream",
          "text": [
            "Ingrese los coeficientes de la ecuacion cuadratica ax² + bx + c = 0\n",
            "Digite {a}5\n",
            "Digite {b}15\n",
            "Digite {c}50\n",
            "Error, el discriminante tiene que ser positivo.\n",
            "Digite {a}5\n",
            "Digite {b}-15\n",
            "Digite {c}-50\n",
            "La ecuacion a resolver es 5.0x² + -15.0x + -50.0 = 0\n",
            "x1 = 5.0\n",
            "x2 = -2.0\n",
            "Ingrese el punto en el que desea evaluar la funcion f(x) = x² + 3x + 3: 5\n",
            "f(x) = 43.0\n",
            "[7, 3, 1, 1, 3, 7, 13, 21]\n"
          ],
          "name": "stdout"
        }
      ]
    },
    {
      "cell_type": "code",
      "metadata": {
        "id": "4PD0dwsTNTHy"
      },
      "source": [
        ""
      ],
      "execution_count": null,
      "outputs": []
    }
  ]
}